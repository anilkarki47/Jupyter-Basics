{
 "cells": [
  {
   "cell_type": "code",
   "execution_count": 1,
   "id": "4547a6e0",
   "metadata": {
    "executionInfo": {
     "elapsed": 13,
     "status": "ok",
     "timestamp": 1663730444036,
     "user": {
      "displayName": "Prateek Kokh Shrestha",
      "userId": "05851148320276378193"
     },
     "user_tz": -345
    },
    "id": "4547a6e0"
   },
   "outputs": [],
   "source": [
    "model = {\"S\":[\"A\",\"B\",\"C\"],\n",
    "         \"A\":[\"S\",\"D\"],\n",
    "         \"B\":[\"D\",\"E\",\"G\"],\n",
    "         \"C\":[\"S\",\"E\"],\n",
    "         \"D\":[\"F\",\"B\"],\n",
    "         \"F\":[\"E\",\"G\"],\n",
    "         \"E\":[\"C\",\"F\",\"H\"],\n",
    "         \"H\":[\"E\",\"H\"],\n",
    "         \"G\":[\"F\",\"B\",\"H\"]\n",
    "        }\n",
    "\n"
   ]
  },
  {
   "cell_type": "markdown",
   "id": "4ff42afe",
   "metadata": {
    "id": "4ff42afe"
   },
   "source": [
    "## <font color =\"red\">Normal BFS Traversal without Goal</font>"
   ]
  },
  {
   "cell_type": "code",
   "execution_count": 2,
   "id": "1287de1d",
   "metadata": {
    "colab": {
     "base_uri": "https://localhost:8080/"
    },
    "executionInfo": {
     "elapsed": 2291,
     "status": "ok",
     "timestamp": 1663731116363,
     "user": {
      "displayName": "Prateek Kokh Shrestha",
      "userId": "05851148320276378193"
     },
     "user_tz": -345
    },
    "id": "1287de1d",
    "outputId": "646f0b25-65e5-4d78-c83c-d257ffcd0cc2"
   },
   "outputs": [
    {
     "name": "stdout",
     "output_type": "stream",
     "text": [
      "['S']\n",
      "['A', 'B', 'C']\n",
      "['B', 'C', 'S', 'D']\n",
      "['C', 'S', 'D', 'D', 'E', 'G']\n",
      "['S', 'D', 'D', 'E', 'G', 'S', 'E']\n",
      "['D', 'D', 'E', 'G', 'S', 'E']\n",
      "['D', 'E', 'G', 'S', 'E', 'F', 'B']\n",
      "['E', 'G', 'S', 'E', 'F', 'B']\n",
      "['G', 'S', 'E', 'F', 'B', 'C', 'F', 'H']\n",
      "['S', 'E', 'F', 'B', 'C', 'F', 'H', 'F', 'B', 'H']\n",
      "['E', 'F', 'B', 'C', 'F', 'H', 'F', 'B', 'H']\n",
      "['F', 'B', 'C', 'F', 'H', 'F', 'B', 'H']\n",
      "['B', 'C', 'F', 'H', 'F', 'B', 'H', 'E', 'G']\n",
      "['C', 'F', 'H', 'F', 'B', 'H', 'E', 'G']\n",
      "['F', 'H', 'F', 'B', 'H', 'E', 'G']\n",
      "['H', 'F', 'B', 'H', 'E', 'G']\n",
      "['F', 'B', 'H', 'E', 'G', 'E', 'H']\n",
      "['B', 'H', 'E', 'G', 'E', 'H']\n",
      "['H', 'E', 'G', 'E', 'H']\n",
      "['E', 'G', 'E', 'H']\n",
      "['G', 'E', 'H']\n",
      "['E', 'H']\n",
      "['H']\n",
      "\n",
      "['S', 'A', 'B', 'C', 'D', 'E', 'G', 'F', 'H']\n"
     ]
    }
   ],
   "source": [
    "initial = \"S\"\n",
    "\n",
    "frontier = [initial]\n",
    "explored = []\n",
    "\n",
    "while frontier:\n",
    "    print (frontier)\n",
    "    value = frontier.pop(0)\n",
    "    if value not in explored:\n",
    "#         print(value,end=\" \")\n",
    "        explored.append(value)\n",
    "#         new_frontier = [val for val in model[value] if val not in frontier if val not in explored]\n",
    "        new_frontier = model[value] \n",
    "        frontier.extend(new_frontier)\n",
    "print()        \n",
    "print(explored)     \n",
    "        "
   ]
  },
  {
   "cell_type": "code",
   "execution_count": 3,
   "id": "6d343fea",
   "metadata": {
    "id": "6d343fea"
   },
   "outputs": [],
   "source": [
    "class State:\n",
    "    def __init__(self,node,parent,depth):\n",
    "        self.node = node\n",
    "        self.parent = parent\n",
    "        self.depth = depth\n",
    "    \n",
    "    def get_children(self):\n",
    "        children = []\n",
    "        \n",
    "        if model[self.node]:\n",
    "            for child in model[self.node]:\n",
    "                children.append(State(child,self.node,self.depth+1))\n",
    "        return children[::-1]\n",
    "    \n",
    "    def __str__(self):\n",
    "        return f\"{self.node}\""
   ]
  },
  {
   "cell_type": "code",
   "execution_count": 4,
   "id": "137fac2d",
   "metadata": {
    "id": "137fac2d"
   },
   "outputs": [],
   "source": [
    "class Queue():\n",
    "    def __init__(self,initial):\n",
    "        self.items = [initial]\n",
    "    def isEmpty(self):\n",
    "        return self.items == []\n",
    "    def enqueue(self,item):\n",
    "        self.items.insert(0,item)\n",
    "    def dequeue(self):\n",
    "        return self.items.pop()\n",
    "    def size(self):\n",
    "        return len(self.items)"
   ]
  },
  {
   "cell_type": "code",
   "execution_count": 5,
   "id": "1799a36d",
   "metadata": {
    "id": "1799a36d"
   },
   "outputs": [],
   "source": [
    "explored = []\n",
    "\n",
    "def bfs(initial,goal):\n",
    "    frontier = Queue(initial)\n",
    "    global explored\n",
    "    graph = {}\n",
    "    frontier_set = {initial.node}\n",
    "    \n",
    "    while not frontier.isEmpty():\n",
    "        state = frontier.dequeue()\n",
    "        print(f\"state: {state}\")\n",
    "        explored.append(state.node)\n",
    "        frontier_set.remove(state.node)\n",
    "        \n",
    "        if state.node == goal:\n",
    "            path = []\n",
    "            print(f\"state: {state}\")\n",
    "            depth = state.depth\n",
    "            while goal != initial.node:\n",
    "                path.append(graph[goal].node)\n",
    "                \n",
    "                goal = graph[goal].parent\n",
    "            return path[::-1],depth\n",
    "        \n",
    "        for neighbour in state.get_children():\n",
    "            if neighbour.node not in explored and neighbour.node not in frontier_set:\n",
    "                frontier.enqueue(neighbour)\n",
    "                frontier_set.add(neighbour.node)\n",
    "                graph[neighbour.node] = neighbour\n",
    "        "
   ]
  },
  {
   "cell_type": "code",
   "execution_count": 6,
   "id": "65ce3abd",
   "metadata": {
    "id": "65ce3abd",
    "outputId": "167f2194-4d9b-4709-a162-bd97948d548a",
    "scrolled": true
   },
   "outputs": [
    {
     "name": "stdout",
     "output_type": "stream",
     "text": [
      "initial: S\n",
      "state: S\n",
      "state: C\n",
      "state: B\n",
      "state: A\n",
      "state: E\n",
      "state: G\n",
      "state: G\n",
      "explored ['S', 'C', 'B', 'A', 'E', 'G']\n",
      "Path of visit: S-B-G\n"
     ]
    }
   ],
   "source": [
    "initial = State(\"S\",None,0)\n",
    "print(f\"initial: {initial}\")\n",
    "path,depth = bfs(initial,\"G\")\n",
    "print(\"explored\",explored)\n",
    "\n",
    "print(f\"Path of visit: {initial}-{'-'.join(path)}\")"
   ]
  },
  {
   "cell_type": "markdown",
   "id": "a8dabff4",
   "metadata": {
    "id": "a8dabff4"
   },
   "source": [
    "## DFS Implementation"
   ]
  },
  {
   "cell_type": "code",
   "execution_count": 7,
   "id": "1367a5e3",
   "metadata": {
    "id": "1367a5e3"
   },
   "outputs": [],
   "source": [
    "class Stack():\n",
    "    def __init__(self,initial):\n",
    "        self.items = [initial]\n",
    "    def isEmpty(self):\n",
    "        return self.items == []\n",
    "    def push(self,item):\n",
    "        self.items.append(item)\n",
    "    def pop(self):\n",
    "        return self.items.pop()\n",
    "    def size(self):\n",
    "        return len(self.items)\n",
    "    def __str__(self):\n",
    "        return str(self.items)"
   ]
  },
  {
   "cell_type": "code",
   "execution_count": 8,
   "id": "feba2b70",
   "metadata": {
    "id": "feba2b70"
   },
   "outputs": [],
   "source": [
    "explored = []\n",
    "\n",
    "def dfs(initial,goal):\n",
    "    frontier = Stack(initial)\n",
    "    global explored\n",
    "    graph = {}\n",
    "    frontier_set = {initial.node}\n",
    "    \n",
    "    while not frontier.isEmpty():\n",
    "        state = frontier.pop()\n",
    "        explored.append(state.node)\n",
    "        frontier_set.remove(state.node)\n",
    "        \n",
    "        if state.node == goal:\n",
    "            path = []\n",
    "            depth = state.depth\n",
    "            while goal != initial.node:\n",
    "                path.append(graph[goal].node)\n",
    "                \n",
    "                goal = graph[goal].parent\n",
    "            return path[::-1],depth\n",
    "        \n",
    "        for neighbour in state.get_children():\n",
    "            if neighbour.node not in explored and neighbour.node not in frontier_set:\n",
    "                frontier.push(neighbour)\n",
    "                frontier_set.add(neighbour.node)\n",
    "                graph[neighbour.node] = neighbour\n",
    "        "
   ]
  },
  {
   "cell_type": "code",
   "execution_count": 9,
   "id": "fda4064f",
   "metadata": {
    "id": "fda4064f"
   },
   "outputs": [
    {
     "name": "stdout",
     "output_type": "stream",
     "text": [
      "initial: S\n",
      "explored ['S', 'A', 'D', 'F', 'E', 'H', 'G']\n",
      "4\n",
      "Path of visit: S-A-D-F-G\n"
     ]
    }
   ],
   "source": [
    "initial = State(\"S\",None,0)\n",
    "print(f\"initial: {initial}\")\n",
    "path,depth = dfs(initial,\"G\")\n",
    "print(\"explored\",explored)\n",
    "print(depth)\n",
    "\n",
    "print(f\"Path of visit: {initial}-{'-'.join(path)}\")"
   ]
  },
  {
   "cell_type": "code",
   "execution_count": null,
   "id": "9eb69546",
   "metadata": {},
   "outputs": [],
   "source": []
  }
 ],
 "metadata": {
  "colab": {
   "provenance": []
  },
  "kernelspec": {
   "display_name": "Python 3 (ipykernel)",
   "language": "python",
   "name": "python3"
  },
  "language_info": {
   "codemirror_mode": {
    "name": "ipython",
    "version": 3
   },
   "file_extension": ".py",
   "mimetype": "text/x-python",
   "name": "python",
   "nbconvert_exporter": "python",
   "pygments_lexer": "ipython3",
   "version": "3.9.7"
  }
 },
 "nbformat": 4,
 "nbformat_minor": 5
}
