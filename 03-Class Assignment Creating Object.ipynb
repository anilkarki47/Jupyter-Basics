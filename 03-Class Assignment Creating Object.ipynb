{
 "cells": [
  {
   "cell_type": "code",
   "execution_count": 57,
   "id": "44bc68cb",
   "metadata": {},
   "outputs": [],
   "source": [
    "class Anil:\n",
    "    def __init__(self, firstName, lastName, rollNumber):\n",
    "        self.firstName = firstName\n",
    "        self.lastName = lastName\n",
    "        self.rollNumber = rollNumber\n",
    "    \n",
    "    def namePrint(self):\n",
    "        print(f\"My name is {self.firstName} {self.lastName} and my roll number is {self.rollNumber}.\")\n",
    "        \n",
    "    def calculateLength(self):\n",
    "        return len(self.firstName),len(self.lastName)\n",
    "    \n",
    "    def reverseName(self):\n",
    "#         print(\"inside reverse\")\n",
    "        return self.firstName[::-1].title(), self.lastName[::-1].title()\n",
    "        \n",
    "    "
   ]
  },
  {
   "cell_type": "code",
   "execution_count": 58,
   "id": "56cfef90",
   "metadata": {},
   "outputs": [
    {
     "name": "stdout",
     "output_type": "stream",
     "text": [
      "My name is Anil Karki and my roll number is 3.\n",
      "(4, 5)\n",
      "('Lina', 'Ikrak')\n"
     ]
    }
   ],
   "source": [
    "detail= Anil(\"Anil\",\"Karki\",3)\n",
    "detail.namePrint()\n",
    "print (detail.calculateLength())\n",
    "print (detail.reverseName())\n",
    "\n"
   ]
  }
 ],
 "metadata": {
  "kernelspec": {
   "display_name": "Python 3 (ipykernel)",
   "language": "python",
   "name": "python3"
  },
  "language_info": {
   "codemirror_mode": {
    "name": "ipython",
    "version": 3
   },
   "file_extension": ".py",
   "mimetype": "text/x-python",
   "name": "python",
   "nbconvert_exporter": "python",
   "pygments_lexer": "ipython3",
   "version": "3.9.7"
  }
 },
 "nbformat": 4,
 "nbformat_minor": 5
}
