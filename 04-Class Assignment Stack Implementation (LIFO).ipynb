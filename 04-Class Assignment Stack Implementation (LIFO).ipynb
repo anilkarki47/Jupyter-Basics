{
 "cells": [
  {
   "cell_type": "code",
   "execution_count": 1,
   "id": "1b641455",
   "metadata": {},
   "outputs": [],
   "source": [
    "class Stack:\n",
    "    def __init__(self):\n",
    "        self.lists = []\n",
    "        \n",
    "    def push(self, value):\n",
    "        self.lists.append(value)\n",
    "        \n",
    "    def pop(self):\n",
    "        self.lists.pop()\n",
    "        \n",
    "    def is_empty(self):\n",
    "        if len(self.lists) == 0:\n",
    "            return True\n",
    "        else:\n",
    "            return False\n",
    "        \n",
    "    def length(self):\n",
    "        return len(self.lists)\n",
    "    \n",
    "    def __str__(self):\n",
    "        return str(self.lists)"
   ]
  },
  {
   "cell_type": "code",
   "execution_count": 2,
   "id": "3741689b",
   "metadata": {},
   "outputs": [
    {
     "name": "stdout",
     "output_type": "stream",
     "text": [
      "[3, 4, 5]\n",
      "[3, 4]\n",
      "2\n"
     ]
    }
   ],
   "source": [
    "s = Stack()\n",
    "\n",
    "s.push(3)\n",
    "s.push(4)\n",
    "s.push(5)\n",
    "print(s)\n",
    "s.pop()\n",
    "print(s)\n",
    "print(s.length())"
   ]
  }
 ],
 "metadata": {
  "kernelspec": {
   "display_name": "Python 3 (ipykernel)",
   "language": "python",
   "name": "python3"
  },
  "language_info": {
   "codemirror_mode": {
    "name": "ipython",
    "version": 3
   },
   "file_extension": ".py",
   "mimetype": "text/x-python",
   "name": "python",
   "nbconvert_exporter": "python",
   "pygments_lexer": "ipython3",
   "version": "3.9.7"
  }
 },
 "nbformat": 4,
 "nbformat_minor": 5
}
