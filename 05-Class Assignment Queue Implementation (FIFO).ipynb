{
 "cells": [
  {
   "cell_type": "code",
   "execution_count": null,
   "id": "b439225e",
   "metadata": {},
   "outputs": [],
   "source": [
    "class Queue:\n",
    "    def __init__(self):\n",
    "        self.lists = []\n",
    "        \n",
    "    def enqueue(self, value):\n",
    "        self.lists.insert(0,value)\n",
    "        \n",
    "    def dequeue(self):\n",
    "        self.lists.pop()\n",
    "        \n",
    "    def is_empty(self):\n",
    "        return self.lists == []\n",
    "    \n",
    "    def length(self):\n",
    "        return len(self.lists)\n",
    "    \n",
    "    def __str__(self):\n",
    "        return f\"{self.lists}\""
   ]
  },
  {
   "cell_type": "code",
   "execution_count": null,
   "id": "df2f3f0e",
   "metadata": {},
   "outputs": [],
   "source": [
    "s = Queue()\n",
    "\n",
    "s.enqueue(3)\n",
    "s.enqueue(4)\n",
    "s.enqueue(5)\n",
    "print(s)\n",
    "s.dequeue()\n",
    "print(s)"
   ]
  }
 ],
 "metadata": {
  "kernelspec": {
   "display_name": "Python 3 (ipykernel)",
   "language": "python",
   "name": "python3"
  },
  "language_info": {
   "codemirror_mode": {
    "name": "ipython",
    "version": 3
   },
   "file_extension": ".py",
   "mimetype": "text/x-python",
   "name": "python",
   "nbconvert_exporter": "python",
   "pygments_lexer": "ipython3",
   "version": "3.9.7"
  }
 },
 "nbformat": 4,
 "nbformat_minor": 5
}
